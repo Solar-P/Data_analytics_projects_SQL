{
 "cells": [
  {
   "cell_type": "markdown",
   "id": "e01f3e1d",
   "metadata": {},
   "source": [
    "## Querying Microsoft SQL Serever"
   ]
  },
  {
   "cell_type": "markdown",
   "id": "a999bf56",
   "metadata": {},
   "source": [
    "### Note: To display the result as a markdown table, I wrote a function that is located in the file [sql_to_md.py](https://github.com/Solar-P/Data_analytics_projects_SQL/blob/main/Advanced_queries/Sql_to_md.py)"
   ]
  },
  {
   "cell_type": "code",
   "execution_count": 1,
   "id": "a3b9277d",
   "metadata": {},
   "outputs": [],
   "source": [
    "import pyodbc\n",
    "\n",
    "# Creating the SQL Server connection\n",
    "server = 'your_server_name'\n",
    "database = 'your_database_name'\n",
    "conn = pyodbc.connect(f'DRIVER={{SQL Server}};SERVER={server};DATABASE={database};Trusted_Connection=yes;')\n",
    "cursor = conn.cursor()"
   ]
  },
  {
   "cell_type": "code",
   "execution_count": 2,
   "id": "172df61b",
   "metadata": {},
   "outputs": [
    {
     "data": {
      "text/plain": [
       "<pyodbc.Cursor at 0x17a6493d930>"
      ]
     },
     "execution_count": 2,
     "metadata": {},
     "output_type": "execute_result"
    }
   ],
   "source": [
    "# Creating the table we will be working with\n",
    "query = '''CREATE TABLE sales(\n",
    "            Staff_ID VARCHAR(40) PRIMARY KEY,\n",
    "            Department VARCHAR(40),\n",
    "            Sales_Amount int);\n",
    "\n",
    "            INSERT INTO sales VALUES ('001', 'Cosmetics', 500);\n",
    "            INSERT INTO sales VALUES ('002', 'Cosmetics', 700);\n",
    "            INSERT INTO sales VALUES ('003', 'Fashion', 1000);\n",
    "            INSERT INTO sales VALUES ('004', 'Jewellery', 800);\n",
    "            INSERT INTO sales VALUES ('005', 'Fashion', 850);\n",
    "            INSERT INTO sales VALUES ('006', 'Kid', 500);\n",
    "            INSERT INTO sales VALUES ('007', 'Cosmetics', 900);\n",
    "            INSERT INTO sales VALUES ('008', 'Fashion', 600);\n",
    "            INSERT INTO sales VALUES ('009', 'Fashion', 1200);\n",
    "            INSERT INTO sales VALUES ('010', 'Jewellery', 900);\n",
    "            INSERT INTO sales VALUES ('011', 'Kid', 700);\n",
    "            INSERT INTO sales VALUES ('012', 'Fashion', 1500);\n",
    "            INSERT INTO sales VALUES ('013', 'Cosmetics', 850);\n",
    "            INSERT INTO sales VALUES ('014', 'Kid', 750);\n",
    "            INSERT INTO sales VALUES ('015', 'Jewellery', 950);'''\n",
    "cursor.execute(query)"
   ]
  },
  {
   "cell_type": "markdown",
   "id": "8e1dd43a",
   "metadata": {},
   "source": [
    "|   Staff_ID | Department   |   Sales_Amount |\n",
    "|-----------:|:-------------|---------------:|\n",
    "|        001 | Cosmetics    |            500 |\n",
    "|        002 | Cosmetics    |            700 |\n",
    "|        003 | Fashion      |           1000 |\n",
    "|        004 | Jewellery    |            800 |\n",
    "|        005 | Fashion      |            850 |\n",
    "|        006 | Kid          |            500 |\n",
    "|        007 | Cosmetics    |            900 |\n",
    "|        008 | Fashion      |            600 |\n",
    "|        009 | Fashion      |           1200 |\n",
    "|        010 | Jewellery    |            900 |\n",
    "|        011 | Kid          |            700 |\n",
    "|        012 | Fashion      |           1500 |\n",
    "|        013 | Cosmetics    |            850 |\n",
    "|        014 | Kid          |            750 |\n",
    "|        015 | Jewellery    |            950 |"
   ]
  },
  {
   "cell_type": "code",
   "execution_count": 9,
   "id": "b6138410",
   "metadata": {},
   "outputs": [
    {
     "data": {
      "text/plain": [
       "<pyodbc.Cursor at 0x27ea2951530>"
      ]
     },
     "execution_count": 9,
     "metadata": {},
     "output_type": "execute_result"
    }
   ],
   "source": [
    "# Task #1: Calculate the total sales amount for each department and add the dept_total column to the sales table \n",
    "query = '''SELECT \n",
    "            Staff_ID, \n",
    "            Department, \n",
    "            Sales_Amount,\n",
    "            SUM(Sales_Amount) OVER (PARTITION BY Department) AS dept_total\n",
    "           FROM \n",
    "            sales;'''\n",
    "cursor.execute(query)"
   ]
  },
  {
   "cell_type": "markdown",
   "id": "d1a6d017",
   "metadata": {},
   "source": [
    "|   Staff_ID | Department   |   Sales_Amount |   dept_total |\n",
    "|-----------:|:-------------|---------------:|-------------:|\n",
    "|        001 | Cosmetics    |            500 |         2950 |\n",
    "|        002 | Cosmetics    |            700 |         2950 |\n",
    "|        007 | Cosmetics    |            900 |         2950 |\n",
    "|        013 | Cosmetics    |            850 |         2950 |\n",
    "|        005 | Fashion      |            850 |         5150 |\n",
    "|        012 | Fashion      |           1500 |         5150 |\n",
    "|        008 | Fashion      |            600 |         5150 |\n",
    "|        009 | Fashion      |           1200 |         5150 |\n",
    "|        003 | Fashion      |           1000 |         5150 |\n",
    "|        004 | Jewellery    |            800 |         2650 |\n",
    "|        010 | Jewellery    |            900 |         2650 |\n",
    "|        015 | Jewellery    |            950 |         2650 |\n",
    "|        006 | Kid          |            500 |         1950 |\n",
    "|        014 | Kid          |            750 |         1950 |\n",
    "|        011 | Kid          |            700 |         1950 |"
   ]
  },
  {
   "cell_type": "code",
   "execution_count": 11,
   "id": "97c20721",
   "metadata": {},
   "outputs": [
    {
     "data": {
      "text/plain": [
       "<pyodbc.Cursor at 0x27ea2951530>"
      ]
     },
     "execution_count": 11,
     "metadata": {},
     "output_type": "execute_result"
    }
   ],
   "source": [
    "# Task #2: Rank sellers according to their performance in each department.\n",
    "query = '''SELECT \n",
    "             Staff_ID, \n",
    "             Department, \n",
    "             Sales_Amount,\n",
    "             RANK() OVER (PARTITION BY Department ORDER BY Sales_Amount DESC) AS Rank_in_Dept\n",
    "           FROM \n",
    "             sales;'''\n",
    "cursor.execute(query)"
   ]
  },
  {
   "cell_type": "markdown",
   "id": "91871da6",
   "metadata": {},
   "source": [
    "|   Staff_ID | Department   |   Sales_Amount |   Rank_in_Dept |\n",
    "|-----------:|:-------------|---------------:|---------------:|\n",
    "|        007 | Cosmetics    |            900 |              1 |\n",
    "|        013 | Cosmetics    |            850 |              2 |\n",
    "|        002 | Cosmetics    |            700 |              3 |\n",
    "|        001 | Cosmetics    |            500 |              4 |\n",
    "|        012 | Fashion      |           1500 |              1 |\n",
    "|        009 | Fashion      |           1200 |              2 |\n",
    "|        003 | Fashion      |           1000 |              3 |\n",
    "|        005 | Fashion      |            850 |              4 |\n",
    "|        008 | Fashion      |            600 |              5 |\n",
    "|        015 | Jewellery    |            950 |              1 |\n",
    "|        010 | Jewellery    |            900 |              2 |\n",
    "|        004 | Jewellery    |            800 |              3 |\n",
    "|        014 | Kid          |            750 |              1 |\n",
    "|        011 | Kid          |            700 |              2 |\n",
    "|        006 | Kid          |            500 |              3 |"
   ]
  },
  {
   "cell_type": "code",
   "execution_count": 19,
   "id": "181cbf17",
   "metadata": {},
   "outputs": [
    {
     "data": {
      "text/plain": [
       "<pyodbc.Cursor at 0x27ea2951530>"
      ]
     },
     "execution_count": 19,
     "metadata": {},
     "output_type": "execute_result"
    }
   ],
   "source": [
    "# Task #3: Calculate the difference between the total sales of each seller and the average value for the department.\n",
    "query = '''SELECT \n",
    "             Staff_ID, \n",
    "             Department, \n",
    "             Sales_Amount,\n",
    "             Sales_Amount - AVG(Sales_Amount) OVER (PARTITION BY Department) AS sales_diff\n",
    "           FROM \n",
    "             sales'''\n",
    "cursor.execute(query)"
   ]
  },
  {
   "cell_type": "markdown",
   "id": "b4e4b907",
   "metadata": {},
   "source": [
    "|   Staff_ID | Department   |   Sales_Amount |   sales_diff |\n",
    "|-----------:|:-------------|---------------:|-------------:|\n",
    "|        001 | Cosmetics    |            500 |         -237 |\n",
    "|        002 | Cosmetics    |            700 |          -37 |\n",
    "|        007 | Cosmetics    |            900 |          163 |\n",
    "|        013 | Cosmetics    |            850 |          113 |\n",
    "|        005 | Fashion      |            850 |         -180 |\n",
    "|        012 | Fashion      |           1500 |          470 |\n",
    "|        008 | Fashion      |            600 |         -430 |\n",
    "|        009 | Fashion      |           1200 |          170 |\n",
    "|        003 | Fashion      |           1000 |          -30 |\n",
    "|        004 | Jewellery    |            800 |          -83 |\n",
    "|        010 | Jewellery    |            900 |           17 |\n",
    "|        015 | Jewellery    |            950 |           67 |\n",
    "|        006 | Kid          |            500 |         -150 |\n",
    "|        014 | Kid          |            750 |          100 |\n",
    "|        011 | Kid          |            700 |           50 |"
   ]
  },
  {
   "cell_type": "code",
   "execution_count": 4,
   "id": "c4d0efd5",
   "metadata": {},
   "outputs": [
    {
     "data": {
      "text/plain": [
       "<pyodbc.Cursor at 0x17a6493d930>"
      ]
     },
     "execution_count": 4,
     "metadata": {},
     "output_type": "execute_result"
    }
   ],
   "source": [
    "# Creating the table with marketing costs\n",
    "query = '''CREATE TABLE marketing_costs(\n",
    "            Department VARCHAR(40) PRIMARY KEY,\n",
    "            Marketing_costs int);\n",
    "\n",
    "            INSERT INTO marketing_costs VALUES ('Cosmetics', 250);\n",
    "            INSERT INTO marketing_costs VALUES ('Fashion', 350);\n",
    "            INSERT INTO marketing_costs VALUES ('Jewellery', 275);\n",
    "            INSERT INTO marketing_costs VALUES ('Kid', 400);'''\n",
    "cursor.execute(query)"
   ]
  },
  {
   "cell_type": "markdown",
   "id": "246f5aeb",
   "metadata": {},
   "source": [
    "| Department   |   Marketing_costs |\n",
    "|:-------------|------------------:|\n",
    "| Cosmetics    |               250 |\n",
    "| Fashion      |               350 |\n",
    "| Jewellery    |               275 |\n",
    "| Kid          |               400 |"
   ]
  },
  {
   "cell_type": "code",
   "execution_count": 10,
   "id": "63b11687",
   "metadata": {},
   "outputs": [
    {
     "data": {
      "text/plain": [
       "<pyodbc.Cursor at 0x17a6493d930>"
      ]
     },
     "execution_count": 10,
     "metadata": {},
     "output_type": "execute_result"
    }
   ],
   "source": [
    "# Task #4: Calculate the return on advertising spend (ROAS) for each department.\n",
    "query = '''SELECT \n",
    "             Department, \n",
    "             dept_total,\n",
    "             Marketing_costs,\n",
    "             ROUND(CAST(dept_total AS DECIMAL(10,2)) / CAST(Marketing_costs AS DECIMAL(10,2)), 2) AS ROAS\n",
    "           FROM \n",
    "             (SELECT\n",
    "                s.Department,\n",
    "                SUM(s.Sales_Amount) AS dept_total,\n",
    "                MAX(mc.Marketing_costs) AS Marketing_costs\n",
    "              FROM \n",
    "                sales s\n",
    "              LEFT JOIN \n",
    "                marketing_costs mc\n",
    "                ON s.Department=mc.Department\n",
    "              GROUP BY s.Department) AS Subquery'''\n",
    "cursor.execute(query)"
   ]
  },
  {
   "cell_type": "markdown",
   "id": "925197ed",
   "metadata": {},
   "source": [
    "| Department   |   dept_total |   Marketing_costs |   ROAS |\n",
    "|:-------------|-------------:|------------------:|-------:|\n",
    "| Cosmetics    |         2950 |               250 |  11.8  |\n",
    "| Fashion      |         5150 |               350 |  14.71 |\n",
    "| Jewellery    |         2650 |               275 |   9.64 |\n",
    "| Kid          |         1950 |               400 |   4.88 |"
   ]
  },
  {
   "cell_type": "code",
   "execution_count": 9,
   "id": "5616b760",
   "metadata": {},
   "outputs": [
    {
     "data": {
      "text/plain": [
       "<pyodbc.Cursor at 0x17a6493d930>"
      ]
     },
     "execution_count": 9,
     "metadata": {},
     "output_type": "execute_result"
    }
   ],
   "source": [
    "# Task #5: Select all sellers who have sales above the average sales amount.\n",
    "query = '''SELECT \n",
    "             Staff_ID, \n",
    "             Department, \n",
    "             Sales_Amount\n",
    "           FROM \n",
    "             sales\n",
    "           WHERE \n",
    "             Sales_Amount > (Select AVG(Sales_Amount) FROM sales);'''\n",
    "cursor.execute(query)"
   ]
  },
  {
   "cell_type": "markdown",
   "id": "caa8e6ca",
   "metadata": {},
   "source": [
    "|   Staff_ID | Department   |   Sales_Amount |\n",
    "|-----------:|:-------------|---------------:|\n",
    "|        003 | Fashion      |           1000 |\n",
    "|        005 | Fashion      |            850 |\n",
    "|        007 | Cosmetics    |            900 |\n",
    "|        009 | Fashion      |           1200 |\n",
    "|        010 | Jewellery    |            900 |\n",
    "|        012 | Fashion      |           1500 |\n",
    "|        013 | Cosmetics    |            850 |\n",
    "|        015 | Jewellery    |            950 |"
   ]
  }
 ],
 "metadata": {
  "kernelspec": {
   "display_name": "Python 3",
   "language": "python",
   "name": "python3"
  },
  "language_info": {
   "codemirror_mode": {
    "name": "ipython",
    "version": 3
   },
   "file_extension": ".py",
   "mimetype": "text/x-python",
   "name": "python",
   "nbconvert_exporter": "python",
   "pygments_lexer": "ipython3",
   "version": "3.11.9"
  }
 },
 "nbformat": 4,
 "nbformat_minor": 5
}
